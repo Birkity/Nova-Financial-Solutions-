{
 "cells": [
  {
   "cell_type": "code",
   "execution_count": 1,
   "metadata": {},
   "outputs": [],
   "source": [
    "import pandas as pd\n",
    "import numpy as np\n",
    "\n",
    "file_paths = [\n",
    "    '../../doc1/Data/yfinance_data/AAPL_historical_data.csv',\n",
    "    '../../doc1/Data/yfinance_data/AMZN_historical_data.csv',\n",
    "    '../../doc1/Data/yfinance_data/GOOG_historical_data.csv',\n",
    "    '../../doc1/Data/yfinance_data/META_historical_data.csv',\n",
    "    '../../doc1/Data/yfinance_data/MSFT_historical_data.csv',\n",
    "    '../../doc1/Data/yfinance_data/NVDA_historical_data.csv',\n",
    "    '../../doc1/Data/yfinance_data/TSLA_historical_data.csv',\n",
    "]\n",
    "\n",
    "stock_symbols = ['AAPL', 'AMZN', 'GOOG', 'META', 'MSFT', 'NVDA', 'TSLA']\n"
   ]
  },
  {
   "cell_type": "code",
   "execution_count": 2,
   "metadata": {},
   "outputs": [],
   "source": [
    "\n",
    "all_data = {}\n",
    "\n",
    "\n",
    "for i, file_path in enumerate(file_paths):\n",
    "    df = pd.read_csv(file_path)\n",
    "    \n",
    "   \n",
    "    df = df.drop(columns=['Dividends', 'Stock Splits'])\n",
    "\n",
    "   \n",
    "    df['Stock'] = stock_symbols[i]\n",
    "\n",
    "    \n",
    "    all_data[stock_symbols[i]] = df"
   ]
  },
  {
   "cell_type": "code",
   "execution_count": 3,
   "metadata": {},
   "outputs": [],
   "source": [
    "def calculate_moving_averages(df, short_window=50, long_window=200):\n",
    "    df['MA50'] = df['Close'].rolling(window=short_window).mean()\n",
    "    df['MA200'] = df['Close'].rolling(window=long_window).mean()\n",
    "    return df\n",
    "\n",
    "# Apply moving averages to each dataset\n",
    "for stock in all_data:\n",
    "    all_data[stock] = calculate_moving_averages(all_data[stock])\n"
   ]
  },
  {
   "cell_type": "code",
   "execution_count": 4,
   "metadata": {},
   "outputs": [],
   "source": [
    "def calculate_rsi(df, window=14):\n",
    "    delta = df['Close'].diff()\n",
    "    gain = (delta.where(delta > 0, 0)).rolling(window=window).mean()\n",
    "    loss = (-delta.where(delta < 0, 0)).rolling(window=window).mean()\n",
    "    rs = gain / loss\n",
    "    df['RSI'] = 100 - (100 / (1 + rs))\n",
    "    return df\n",
    "\n",
    "\n",
    "for stock in all_data:\n",
    "    all_data[stock] = calculate_rsi(all_data[stock])\n"
   ]
  },
  {
   "cell_type": "code",
   "execution_count": 5,
   "metadata": {},
   "outputs": [],
   "source": [
    "def calculate_macd(df, short_window=12, long_window=26, signal_window=9):\n",
    "    short_ema = df['Close'].ewm(span=short_window, adjust=False).mean()\n",
    "    long_ema = df['Close'].ewm(span=long_window, adjust=False).mean()\n",
    "    df['MACD'] = short_ema - long_ema\n",
    "    df['MACD_Signal'] = df['MACD'].ewm(span=signal_window, adjust=False).mean()\n",
    "    df['MACD_Hist'] = df['MACD'] - df['MACD_Signal']\n",
    "    return df\n",
    "\n",
    "for stock in all_data:\n",
    "    all_data[stock] = calculate_macd(all_data[stock])\n"
   ]
  },
  {
   "cell_type": "code",
   "execution_count": 6,
   "metadata": {},
   "outputs": [],
   "source": [
    "def calculate_returns(df):\n",
    "    df['Daily_Return'] = df['Close'].pct_change()\n",
    "    return df\n",
    "\n",
    "\n",
    "for stock in all_data:\n",
    "    all_data[stock] = calculate_returns(all_data[stock])\n"
   ]
  },
  {
   "cell_type": "code",
   "execution_count": 7,
   "metadata": {},
   "outputs": [
    {
     "name": "stdout",
     "output_type": "stream",
     "text": [
      "AAPL: 50-Day MA = 210.86, 200-Day MA = 188.91, Trend = Uptrend\n",
      "AMZN: 50-Day MA = 187.04, 200-Day MA = 167.81, Trend = Uptrend\n",
      "GOOG: 50-Day MA = 180.17, 200-Day MA = 154.02, Trend = Uptrend\n",
      "META: 50-Day MA = 491.47, 200-Day MA = 431.02, Trend = Uptrend\n",
      "MSFT: 50-Day MA = 439.18, 200-Day MA = 402.56, Trend = Uptrend\n",
      "NVDA: 50-Day MA = 119.38, 200-Day MA = 79.57, Trend = Uptrend\n",
      "TSLA: 50-Day MA = 206.11, 200-Day MA = 204.48, Trend = Uptrend\n"
     ]
    }
   ],
   "source": [
    "def moving_averages_insights(df):\n",
    "    # Get the latest values of the moving averages\n",
    "    latest_ma50 = df['MA50'].iloc[-1]\n",
    "    latest_ma200 = df['MA200'].iloc[-1]\n",
    "    \n",
    "    # Compare the latest values\n",
    "    if latest_ma50 > latest_ma200:\n",
    "        trend = \"Uptrend\"\n",
    "    else:\n",
    "        trend = \"Downtrend\"\n",
    "    \n",
    "    return latest_ma50, latest_ma200, trend\n",
    "\n",
    "# Apply to each stock and print the results\n",
    "for stock in all_data:\n",
    "    ma50, ma200, trend = moving_averages_insights(all_data[stock])\n",
    "    print(f\"{stock}: 50-Day MA = {ma50:.2f}, 200-Day MA = {ma200:.2f}, Trend = {trend}\")\n"
   ]
  },
  {
   "cell_type": "code",
   "execution_count": 12,
   "metadata": {},
   "outputs": [
    {
     "name": "stdout",
     "output_type": "stream",
     "text": [
      "AAPL: RSI = 28.94, Status = Oversold\n",
      "AMZN: RSI = 22.69, Status = Oversold\n",
      "GOOG: RSI = 23.15, Status = Oversold\n",
      "META: RSI = 26.09, Status = Oversold\n",
      "MSFT: RSI = 21.60, Status = Oversold\n",
      "NVDA: RSI = 21.04, Status = Oversold\n",
      "TSLA: RSI = 34.48, Status = Neutral\n"
     ]
    }
   ],
   "source": [
    "def rsi_insights(df):\n",
    "    # Get the latest RSI value\n",
    "    latest_rsi = df['RSI'].iloc[-1]\n",
    "    \n",
    "    # Interpret the RSI value\n",
    "    if latest_rsi > 70:\n",
    "        rsi_status = \"Overbought\"\n",
    "    elif latest_rsi < 30:\n",
    "        rsi_status = \"Oversold\"\n",
    "    else:\n",
    "        rsi_status = \"Neutral\"\n",
    "    \n",
    "    return latest_rsi, rsi_status\n",
    "\n",
    "# Apply to each stock and print the results\n",
    "for stock in all_data:\n",
    "    rsi, status = rsi_insights(all_data[stock])\n",
    "    print(f\"{stock}: RSI = {rsi:.2f}, Status = {status}\")\n"
   ]
  },
  {
   "cell_type": "code",
   "execution_count": 13,
   "metadata": {},
   "outputs": [
    {
     "name": "stdout",
     "output_type": "stream",
     "text": [
      "AAPL: MACD = 2.01, Signal = 4.30, Direction = Bearish\n",
      "AMZN: MACD = -2.28, Signal = -0.99, Direction = Bearish\n",
      "GOOG: MACD = -2.71, Signal = -0.65, Direction = Bearish\n",
      "META: MACD = -10.36, Signal = -6.30, Direction = Bearish\n",
      "MSFT: MACD = -5.18, Signal = -1.27, Direction = Bearish\n",
      "NVDA: MACD = -2.95, Signal = -0.39, Direction = Bearish\n",
      "TSLA: MACD = 5.21, Signal = 10.49, Direction = Bearish\n"
     ]
    }
   ],
   "source": [
    "def macd_insights(df):\n",
    "    # Get the latest MACD and Signal line values\n",
    "    latest_macd = df['MACD'].iloc[-1]\n",
    "    latest_signal = df['MACD_Signal'].iloc[-1]\n",
    "    \n",
    "    # Interpret the MACD and Signal line values\n",
    "    if latest_macd > latest_signal:\n",
    "        signal = \"Bullish\"\n",
    "    else:\n",
    "        signal = \"Bearish\"\n",
    "    \n",
    "    return latest_macd, latest_signal, signal\n",
    "\n",
    "# Apply to each stock and print the results\n",
    "for stock in all_data:\n",
    "    macd, signal, direction = macd_insights(all_data[stock])\n",
    "    print(f\"{stock}: MACD = {macd:.2f}, Signal = {signal:.2f}, Direction = {direction}\")\n"
   ]
  },
  {
   "cell_type": "code",
   "execution_count": 14,
   "metadata": {},
   "outputs": [
    {
     "name": "stdout",
     "output_type": "stream",
     "text": [
      "AAPL: Average Daily Return = 0.0011, Standard Deviation = 0.0279\n",
      "AMZN: Average Daily Return = 0.0017, Standard Deviation = 0.0354\n",
      "GOOG: Average Daily Return = 0.0010, Standard Deviation = 0.0193\n",
      "META: Average Daily Return = 0.0013, Standard Deviation = 0.0243\n",
      "MSFT: Average Daily Return = 0.0011, Standard Deviation = 0.0211\n",
      "NVDA: Average Daily Return = 0.0019, Standard Deviation = 0.0379\n",
      "TSLA: Average Daily Return = 0.0020, Standard Deviation = 0.0359\n"
     ]
    }
   ],
   "source": [
    "def returns_insights(df):\n",
    "    # Calculate the average daily return and standard deviation\n",
    "    avg_return = df['Daily_Return'].mean()\n",
    "    std_dev = df['Daily_Return'].std()\n",
    "    \n",
    "    return avg_return, std_dev\n",
    "\n",
    "# Apply to each stock and print the results\n",
    "for stock in all_data:\n",
    "    avg_return, std_dev = returns_insights(all_data[stock])\n",
    "    print(f\"{stock}: Average Daily Return = {avg_return:.4f}, Standard Deviation = {std_dev:.4f}\")\n"
   ]
  }
 ],
 "metadata": {
  "kernelspec": {
   "display_name": "venv",
   "language": "python",
   "name": "python3"
  },
  "language_info": {
   "codemirror_mode": {
    "name": "ipython",
    "version": 3
   },
   "file_extension": ".py",
   "mimetype": "text/x-python",
   "name": "python",
   "nbconvert_exporter": "python",
   "pygments_lexer": "ipython3",
   "version": "3.11.2"
  }
 },
 "nbformat": 4,
 "nbformat_minor": 2
}
